{
 "cells": [
  {
   "cell_type": "markdown",
   "metadata": {},
   "source": [
    "# Machine Learning\n",
    "***\n",
    "## Digit Recognition\n",
    "\n",
    "The objective of this project is to design and train a neural network to recognize hand-wriiten digits."
   ]
  },
  {
   "cell_type": "markdown",
   "metadata": {},
   "source": [
    "The MINST database has been used. A 2-layer neural network has been used.\n",
    "\n",
    "### Step 0\n",
    "***\n",
    "Load the data and required modules."
   ]
  },
  {
   "cell_type": "code",
   "execution_count": 1,
   "metadata": {},
   "outputs": [],
   "source": [
    "import os\n",
    "import struct\n",
    "from array import array\n",
    "import math\n",
    "import random\n",
    "import numpy as np\n",
    "import matplotlib.pyplot as plt\n",
    "%matplotlib inline"
   ]
  },
  {
   "cell_type": "code",
   "execution_count": 2,
   "metadata": {},
   "outputs": [],
   "source": [
    "def load(img_path , label_path) :\n",
    "\n",
    "        with open(img_path , 'rb') as image_file:\n",
    "            magic , size , rows , cols = struct.unpack('>IIII' , image_file.read(4*4))\n",
    "            image_data = array('B' , image_file.read())\n",
    "\n",
    "        img_size = rows*cols\n",
    "        images = []\n",
    "\n",
    "        for i in range(size) :\n",
    "            image = image_data[i*img_size : (i+1)*img_size]\n",
    "            images.append(image)\n",
    "\n",
    "        with open(label_path , 'rb') as label_file :\n",
    "            magic , size = struct.unpack('>II' , label_file.read(2*4))\n",
    "            labels = array('B' , label_file.read())\n",
    "\n",
    "        return images , labels"
   ]
  },
  {
   "cell_type": "code",
   "execution_count": 3,
   "metadata": {},
   "outputs": [],
   "source": [
    "train_img_file = 'Loader/data/train-images-idx3-ubyte'\n",
    "train_labels_file = 'Loader/data/train-labels-idx1-ubyte'\n",
    "\n",
    "test_img_file = 'Loader/data/t10k-images-idx3-ubyte'\n",
    "test_labels_file = 'Loader/data/t10k-labels-idx1-ubyte'\n",
    "\n",
    "train_img , train_label = load(os.path.join( os.getcwd() ,train_img_file) , \n",
    "                                                                    os.path.join( os.getcwd() ,train_labels_file))\n",
    "test_img , test_label = load(os.path.join( os.getcwd() ,test_img_file) , \n",
    "                                                                    os.path.join( os.getcwd() , test_labels_file))"
   ]
  },
  {
   "cell_type": "code",
   "execution_count": 4,
   "metadata": {},
   "outputs": [],
   "source": [
    "X_train = np.array(train_img , dtype=np.float) / 255\n",
    "y_train = np.array(train_label , dtype=np.int).reshape(1 , -1)\n",
    "\n",
    "X_test = np.array(test_img , dtype=np.float) / 255\n",
    "y_test = np.array(test_label , dtype=np.int).reshape(1 , -1)\n",
    "\n",
    "X_train , X_test = X_train.T , X_test.T "
   ]
  },
  {
   "cell_type": "markdown",
   "metadata": {},
   "source": [
    "The data has normalized within the range [0 , 1]."
   ]
  },
  {
   "cell_type": "code",
   "execution_count": 5,
   "metadata": {},
   "outputs": [
    {
     "name": "stdout",
     "output_type": "stream",
     "text": [
      "Number of training examples = 60000\n",
      "Number of input units = 784\n",
      "Number of hidden units = 10\n",
      "Number of output units = 60000\n",
      "Image Height = 28\n"
     ]
    }
   ],
   "source": [
    "n_x , m = X_train.shape\n",
    "n_h = 10\n",
    "n_o = y_train.shape[1]\n",
    "img_h = int(math.sqrt(n_x))\n",
    "\n",
    "print(f'Number of training examples = {m}')\n",
    "print(f'Number of input units = {n_x}')\n",
    "print(f'Number of hidden units = {n_h}')\n",
    "print(f'Number of output units = {n_o}')\n",
    "print(f'Image Height = {img_h}')"
   ]
  },
  {
   "cell_type": "markdown",
   "metadata": {},
   "source": [
    "### Step 1\n",
    "***\n",
    "Visualize the data"
   ]
  },
  {
   "cell_type": "code",
   "execution_count": 6,
   "metadata": {},
   "outputs": [
    {
     "data": {
      "text/plain": [
       "Text(0.5, 1.0, 'Digit = 3')"
      ]
     },
     "execution_count": 6,
     "metadata": {},
     "output_type": "execute_result"
    },
    {
     "data": {
      "image/png": "[encoded data removed]",
      "text/plain": [
       "<Figure size 432x288 with 1 Axes>"
      ]
     },
     "metadata": {
      "needs_background": "light"
     },
     "output_type": "display_data"
    }
   ],
   "source": [
    "index = random.randint( 0 , n_x)\n",
    "\n",
    "plt.imshow(X_train[ : , index].reshape(img_h , -1) , cmap = 'gray' , origin='lower')\n",
    "plt.title(f'Digit = {y_train[0 , index]}' , fontsize='18')"
   ]
  },
  {
   "cell_type": "markdown",
   "metadata": {},
   "source": [
    "### Step 2\n",
    "***\n",
    "Design and test the neural network architecture"
   ]
  },
  {
   "cell_type": "code",
   "execution_count": 7,
   "metadata": {},
   "outputs": [],
   "source": [
    "def prep_labels(y , classes = 10) : #create the required dimensional output vector\n",
    "    prep_y = np.zeros((classes , y.shape[1]))\n",
    "    \n",
    "    for i in range(classes) :\n",
    "        prep_y[i , :] = (y==i).astype(np.int)\n",
    "    \n",
    "    return prep_y"
   ]
  },
  {
   "cell_type": "code",
   "execution_count": 8,
   "metadata": {},
   "outputs": [],
   "source": [
    "def sigmoid(z) : #calculate sigmoid of z\n",
    "    return 1 / (1 + np.exp(-z))"
   ]
  },
  {
   "cell_type": "code",
   "execution_count": 9,
   "metadata": {},
   "outputs": [],
   "source": [
    "def initialize(n_x , n_h , n_o) : #randomly initialize the parameters\n",
    "    W1 = np.random.randn(n_h , n_x) * 0.01\n",
    "    b1 = np.zeros((n_h , 1))\n",
    "    \n",
    "    W2 = np.random.randn(n_o , n_h) * 0.01\n",
    "    b2 = np.zeros((n_o , 1))\n",
    "    \n",
    "    params = {\n",
    "        'W1' : W1 ,\n",
    "        'b1' : b1 , \n",
    "        'W2' : W2 , \n",
    "        'b2' : b2 \n",
    "    }\n",
    "    \n",
    "    return params"
   ]
  },
  {
   "cell_type": "code",
   "execution_count": 10,
   "metadata": {},
   "outputs": [],
   "source": [
    "def forward_prop (X , params) : #forward propogation algorithm\n",
    "    W1 = params['W1']\n",
    "    b1 = params['b1']\n",
    "    W2 = params['W2']\n",
    "    b2 = params['b2']\n",
    "    \n",
    "    Z1 = np.dot(W1 , X) + b1\n",
    "    A1 = np.tanh(Z1)\n",
    "    \n",
    "    Z2 = np.dot(W2 , A1) + b2\n",
    "    A2 = sigmoid(Z2)\n",
    "    \n",
    "    cache = {\n",
    "        'Z1' : Z1 ,\n",
    "        'A1' : A1 ,\n",
    "        'Z2' : Z2 ,\n",
    "        'A2' : A2 \n",
    "    }\n",
    "    \n",
    "    return cache"
   ]
  },
  {
   "cell_type": "code",
   "execution_count": 11,
   "metadata": {},
   "outputs": [],
   "source": [
    "def compute_cost(X , y , cache) : #Compute the cost function\n",
    "    Z1 = cache['Z1']\n",
    "    A1 = cache['A1']\n",
    "    Z2 = cache['Z2']\n",
    "    A2 = cache['A2']\n",
    "    \n",
    "    loss = y * np.log(A2) + (1 - y) * np.log(1 - A2)\n",
    "    cost = - np.sum(loss) / X.shape[1]\n",
    "    \n",
    "    return cost"
   ]
  },
  {
   "cell_type": "code",
   "execution_count": 12,
   "metadata": {},
   "outputs": [],
   "source": [
    "def back_prop(X , y , cache , params) : #Backward propogation algorithm\n",
    "    W1 = params['W1']\n",
    "    b1 = params['b1']\n",
    "    W2 = params['W2']\n",
    "    b2 = params['b2']\n",
    "    \n",
    "    Z1 = cache['Z1']\n",
    "    A1 = cache['A1']\n",
    "    Z2 = cache['Z2']\n",
    "    A2 = cache['A2']\n",
    "    \n",
    "    dZ2 = A2 - y\n",
    "    dW2 = np.dot(dZ2 , A1.T) / X.shape[1]\n",
    "    db2 = np.mean(dZ2 , axis = 1 , keepdims = True)\n",
    "    dZ1 = np.dot(W2.T , dZ2) * (1 - A1 ** 2)\n",
    "    dW1 = np.dot(dZ1 , X.T) / X.shape[1]\n",
    "    db1 = np.mean(dZ1 , axis = 1 , keepdims = True)\n",
    "    \n",
    "    grads = {\n",
    "        'dW1' : dW1 ,\n",
    "        'db1' : db1 ,\n",
    "        'dW2' : dW2 ,\n",
    "        'db2' : db2\n",
    "    }\n",
    "    \n",
    "    return grads"
   ]
  },
  {
   "cell_type": "code",
   "execution_count": 18,
   "metadata": {},
   "outputs": [],
   "source": [
    "def optimize(X , y , params , cache , iterations = 100 , learning_rate = 0.01) : # Batch Gradient Descent\n",
    "    W1 = params['W1']\n",
    "    b1 = params['b1']\n",
    "    W2 = params['W2']\n",
    "    b2 = params['b2']\n",
    "    \n",
    "    costs = []\n",
    "    \n",
    "    for i in range(iterations) :\n",
    "            \n",
    "        grads = back_prop(X , y , cache , params)\n",
    "\n",
    "        dW2 = grads['dW2']\n",
    "        db2 = grads['db2']\n",
    "        dW1 = grads['dW1']\n",
    "        db1 = grads['db1']\n",
    "\n",
    "        W1 = W1 - learning_rate * dW1\n",
    "        b1 = b1 - learning_rate * db1\n",
    "        W2 = W2 - learning_rate * dW2\n",
    "        b2 = b2 - learning_rate * db2\n",
    "\n",
    "        params = {\n",
    "            'W1' : W1 ,\n",
    "            'b1' : b1 , \n",
    "            'W2' : W2 , \n",
    "            'b2' : b2 \n",
    "        }\n",
    "\n",
    "        cache = forward_prop(X , params)\n",
    "\n",
    "        if i % 10 == 0 :\n",
    "            cost = compute_cost(X , y , cache)\n",
    "            print(f'Cost at {i} iteration: {cost}')\n",
    "            costs.append(cost)\n",
    "                \n",
    "    return params , costs\n",
    "    "
   ]
  },
  {
   "cell_type": "code",
   "execution_count": 23,
   "metadata": {},
   "outputs": [],
   "source": [
    "def nn_model(X , y , n_h , iterations = 2000 , classes = 10 , learning_rate = 0.1):\n",
    "    y = prep_labels(y , classes)\n",
    "    \n",
    "    params = initialize(X.shape[0] , n_h , classes)\n",
    "    \n",
    "    cache = forward_prop(X , params)\n",
    "    \n",
    "    params , costs = optimize(X , y , params , cache , iterations , learning_rate)\n",
    "    \n",
    "    cache = forward_prop(X , params)\n",
    "    \n",
    "    model = {\n",
    "        'params' : params , \n",
    "        'costs' : costs\n",
    "    }\n",
    "    \n",
    "    return model"
   ]
  },
  {
   "cell_type": "code",
   "execution_count": 22,
   "metadata": {},
   "outputs": [
    {
     "name": "stdout",
     "output_type": "stream",
     "text": [
      "Cost at 0 iteration: 6.187577704942031\n",
      "Cost at 10 iteration: 3.2442022292000563\n",
      "Cost at 20 iteration: 3.080395987865751\n",
      "Cost at 30 iteration: 2.8189038386066976\n",
      "Cost at 40 iteration: 2.490971830712125\n",
      "Cost at 50 iteration: 2.1905571272371915\n",
      "Cost at 60 iteration: 1.9570715891171162\n",
      "Cost at 70 iteration: 1.7786763330508983\n",
      "Cost at 80 iteration: 1.6376929959860136\n",
      "Cost at 90 iteration: 1.5230784528369683\n",
      "Cost at 100 iteration: 1.4285213937461059\n",
      "Cost at 110 iteration: 1.3497972127803073\n",
      "Cost at 120 iteration: 1.283598360770154\n",
      "Cost at 130 iteration: 1.2272425247925551\n",
      "Cost at 140 iteration: 1.1786240678032858\n",
      "Cost at 150 iteration: 1.1361540990720314\n",
      "Cost at 160 iteration: 1.0986621000444599\n",
      "Cost at 170 iteration: 1.0652899478327262\n",
      "Cost at 180 iteration: 1.035400641281293\n",
      "Cost at 190 iteration: 1.008508695373501\n",
      "Cost at 200 iteration: 0.9842309229321956\n",
      "Cost at 210 iteration: 0.962253522373089\n",
      "Cost at 220 iteration: 0.9423110784785712\n",
      "Cost at 230 iteration: 0.9241736776841453\n",
      "Cost at 240 iteration: 0.9076391909272301\n",
      "Cost at 250 iteration: 0.8925286207265368\n",
      "Cost at 260 iteration: 0.8786831269690354\n",
      "Cost at 270 iteration: 0.8659618937524224\n",
      "Cost at 280 iteration: 0.8542403794554594\n",
      "Cost at 290 iteration: 0.843408731676242\n",
      "Cost at 300 iteration: 0.8333702846706056\n",
      "Cost at 310 iteration: 0.8240401244478632\n",
      "Cost at 320 iteration: 0.8153437334905885\n",
      "Cost at 330 iteration: 0.8072157324600108\n",
      "Cost at 340 iteration: 0.7995987322101371\n",
      "Cost at 350 iteration: 0.7924423025877324\n",
      "Cost at 360 iteration: 0.7857020580159718\n",
      "Cost at 370 iteration: 0.779338854935665\n",
      "Cost at 380 iteration: 0.7733180929890113\n",
      "Cost at 390 iteration: 0.7676091101255974\n",
      "Cost at 400 iteration: 0.7621846612130417\n",
      "Cost at 410 iteration: 0.75702046988654\n",
      "Cost at 420 iteration: 0.7520948439828616\n",
      "Cost at 430 iteration: 0.7473883457623027\n",
      "Cost at 440 iteration: 0.7428835090812115\n",
      "Cost at 450 iteration: 0.7385645966445841\n",
      "Cost at 460 iteration: 0.7344173913872002\n",
      "Cost at 470 iteration: 0.7304290168730508\n",
      "Cost at 480 iteration: 0.7265877823535102\n",
      "Cost at 490 iteration: 0.7228830487825392\n",
      "Cost at 500 iteration: 0.7193051126560945\n",
      "Cost at 510 iteration: 0.7158451050301016\n",
      "Cost at 520 iteration: 0.7124949034855115\n",
      "Cost at 530 iteration: 0.709247055159188\n",
      "Cost at 540 iteration: 0.7060947092543234\n",
      "Cost at 550 iteration: 0.703031557691848\n",
      "Cost at 560 iteration: 0.7000517827719807\n",
      "Cost at 570 iteration: 0.6971500108890493\n",
      "Cost at 580 iteration: 0.694321271488343\n",
      "Cost at 590 iteration: 0.6915609605757326\n",
      "Cost at 600 iteration: 0.6888648081929888\n",
      "Cost at 610 iteration: 0.6862288493575148\n",
      "Cost at 620 iteration: 0.683649398037238\n",
      "Cost at 630 iteration: 0.6811230237920876\n",
      "Cost at 640 iteration: 0.6786465307646522\n",
      "Cost at 650 iteration: 0.6762169387458792\n",
      "Cost at 660 iteration: 0.6738314660783676\n",
      "Cost at 670 iteration: 0.6714875141909444\n",
      "Cost at 680 iteration: 0.6691826535848138\n",
      "Cost at 690 iteration: 0.666914611114214\n",
      "Cost at 700 iteration: 0.664681258423973\n",
      "Cost at 710 iteration: 0.6624806014230494\n",
      "Cost at 720 iteration: 0.6603107706875093\n",
      "Cost at 730 iteration: 0.658170012698809\n",
      "Cost at 740 iteration: 0.6560566818340081\n",
      "Cost at 750 iteration: 0.6539692330338535\n",
      "Cost at 760 iteration: 0.6519062150828145\n",
      "Cost at 770 iteration: 0.6498662644422277\n",
      "Cost at 780 iteration: 0.6478480995839211\n",
      "Cost at 790 iteration: 0.6458505157771465\n",
      "Cost at 800 iteration: 0.6438723802864518\n",
      "Cost at 810 iteration: 0.6419126279423697\n",
      "Cost at 820 iteration: 0.6399702570505947\n",
      "Cost at 830 iteration: 0.6380443256086665\n",
      "Cost at 840 iteration: 0.6361339478022042\n",
      "Cost at 850 iteration: 0.6342382907554489\n",
      "Cost at 860 iteration: 0.6323565715133143\n",
      "Cost at 870 iteration: 0.6304880542343588\n",
      "Cost at 880 iteration: 0.6286320475761193\n",
      "Cost at 890 iteration: 0.6267879022560577\n",
      "Cost at 900 iteration: 0.6249550087730581\n",
      "Cost at 910 iteration: 0.623132795275909\n",
      "Cost at 920 iteration: 0.621320725566599\n",
      "Cost at 930 iteration: 0.6195182972274764\n",
      "Cost at 940 iteration: 0.6177250398624613\n",
      "Cost at 950 iteration: 0.6159405134434867\n",
      "Cost at 960 iteration: 0.6141643067542313\n",
      "Cost at 970 iteration: 0.6123960359240002\n",
      "Cost at 980 iteration: 0.6106353430452776\n",
      "Cost at 990 iteration: 0.6088818948690823\n",
      "Cost at 1000 iteration: 0.6071353815727506\n",
      "Cost at 1010 iteration: 0.6053955155952248\n",
      "Cost at 1020 iteration: 0.603662030535283\n",
      "Cost at 1030 iteration: 0.6019346801084752\n",
      "Cost at 1040 iteration: 0.6002132371587995\n",
      "Cost at 1050 iteration: 0.5984974927214\n",
      "Cost at 1060 iteration: 0.5967872551327645\n",
      "Cost at 1070 iteration: 0.5950823491851207\n",
      "Cost at 1080 iteration: 0.5933826153218825\n",
      "Cost at 1090 iteration: 0.5916879088711907\n",
      "Cost at 1100 iteration: 0.5899980993147561\n",
      "Cost at 1110 iteration: 0.5883130695893768\n",
      "Cost at 1120 iteration: 0.586632715418674\n",
      "Cost at 1130 iteration: 0.584956944672759\n",
      "Cost at 1140 iteration: 0.5832856767537088\n",
      "Cost at 1150 iteration: 0.5816188420049054\n",
      "Cost at 1160 iteration: 0.5799563811424516\n",
      "Cost at 1170 iteration: 0.5782982447070487\n",
      "Cost at 1180 iteration: 0.5766443925348794\n",
      "Cost at 1190 iteration: 0.5749947932461996\n",
      "Cost at 1200 iteration: 0.5733494237504809\n",
      "Cost at 1210 iteration: 0.5717082687671052\n",
      "Cost at 1220 iteration: 0.5700713203607238\n",
      "Cost at 1230 iteration: 0.5684385774905345\n",
      "Cost at 1240 iteration: 0.5668100455728315\n",
      "Cost at 1250 iteration: 0.5651857360562911\n",
      "Cost at 1260 iteration: 0.5635656660095453\n",
      "Cost at 1270 iteration: 0.5619498577206814\n",
      "Cost at 1280 iteration: 0.5603383383083718\n",
      "Cost at 1290 iteration: 0.5587311393444097\n",
      "Cost at 1300 iteration: 0.5571282964874694\n",
      "Cost at 1310 iteration: 0.5555298491279653\n",
      "Cost at 1320 iteration: 0.5539358400439135\n",
      "Cost at 1330 iteration: 0.5523463150677393\n",
      "Cost at 1340 iteration: 0.5507613227639844\n",
      "Cost at 1350 iteration: 0.5491809141178992\n",
      "Cost at 1360 iteration: 0.5476051422349125\n",
      "Cost at 1370 iteration: 0.5460340620509727\n",
      "Cost at 1380 iteration: 0.5444677300537726\n",
      "Cost at 1390 iteration: 0.5429062040148552\n",
      "Cost at 1400 iteration: 0.5413495427326046\n",
      "Cost at 1410 iteration: 0.5397978057861123\n",
      "Cost at 1420 iteration: 0.5382510532999122\n",
      "Cost at 1430 iteration: 0.536709345719551\n",
      "Cost at 1440 iteration: 0.5351727435979622\n",
      "Cost at 1450 iteration: 0.5336413073925923\n",
      "Cost at 1460 iteration: 0.5321150972732108\n",
      "Cost at 1470 iteration: 0.5305941729403276\n",
      "Cost at 1480 iteration: 0.5290785934541111\n",
      "Cost at 1490 iteration: 0.5275684170737012\n",
      "Cost at 1500 iteration: 0.5260637011067762\n",
      "Cost at 1510 iteration: 0.5245645017692304\n",
      "Cost at 1520 iteration: 0.523070874054787\n",
      "Cost at 1530 iteration: 0.5215828716143703\n",
      "Cost at 1540 iteration: 0.5201005466450292\n",
      "Cost at 1550 iteration: 0.5186239497881988\n",
      "Cost at 1560 iteration: 0.5171531300370632\n",
      "Cost at 1570 iteration: 0.515688134652778\n",
      "Cost at 1580 iteration: 0.5142290090892859\n",
      "Cost at 1590 iteration: 0.5127757969264567\n",
      "Cost at 1600 iteration: 0.5113285398112639\n",
      "Cost at 1610 iteration: 0.5098872774067055\n",
      "Cost at 1620 iteration: 0.5084520473481673\n",
      "Cost at 1630 iteration: 0.507022885206915\n",
      "Cost at 1640 iteration: 0.5055998244604029\n",
      "Cost at 1650 iteration: 0.5041828964690774\n",
      "Cost at 1660 iteration: 0.5027721304593559\n",
      "Cost at 1670 iteration: 0.5013675535124531\n",
      "Cost at 1680 iteration: 0.4999691905587348\n",
      "Cost at 1690 iteration: 0.49857706437728166\n",
      "Cost at 1700 iteration: 0.49719119560033687\n",
      "Cost at 1710 iteration: 0.4958116027223341\n",
      "Cost at 1720 iteration: 0.4944383021131918\n",
      "Cost at 1730 iteration: 0.49307130803557847\n",
      "Cost at 1740 iteration: 0.4917106326658574\n",
      "Cost at 1750 iteration: 0.4903562861184233\n",
      "Cost at 1760 iteration: 0.48900827647316675\n",
      "Cost at 1770 iteration: 0.48766660980579435\n",
      "Cost at 1780 iteration: 0.4863312902207625\n",
      "Cost at 1790 iteration: 0.48500231988658044\n",
      "Cost at 1800 iteration: 0.4836796990732505\n",
      "Cost at 1810 iteration: 0.482363426191639\n",
      "Cost at 1820 iteration: 0.4810534978345626\n",
      "Cost at 1830 iteration: 0.4797499088194003\n",
      "Cost at 1840 iteration: 0.4784526522320506\n",
      "Cost at 1850 iteration: 0.4771617194720581\n",
      "Cost at 1860 iteration: 0.47587710029874974\n",
      "Cost at 1870 iteration: 0.4745987828782302\n",
      "Cost at 1880 iteration: 0.47332675383109335\n",
      "Cost at 1890 iteration: 0.47206099828071424\n",
      "Cost at 1900 iteration: 0.4708014999020006\n",
      "Cost at 1910 iteration: 0.46954824097048464\n",
      "Cost at 1920 iteration: 0.4683012024116414\n",
      "Cost at 1930 iteration: 0.4670603638503363\n"
     ]
    },
    {
     "name": "stdout",
     "output_type": "stream",
     "text": [
      "Cost at 1940 iteration: 0.46582570366029796\n",
      "Cost at 1950 iteration: 0.46459719901352975\n",
      "Cost at 1960 iteration: 0.46337482592956625\n",
      "Cost at 1970 iteration: 0.4621585593244999\n",
      "Cost at 1980 iteration: 0.46094837305969577\n",
      "Cost at 1990 iteration: 0.4597442399901217\n"
     ]
    }
   ],
   "source": [
    " model = nn_model(X_train , y_train , 500)"
   ]
  },
  {
   "cell_type": "code",
   "execution_count": 24,
   "metadata": {
    "scrolled": true
   },
   "outputs": [
    {
     "data": {
      "text/plain": [
       "Text(0, 0.5, 'Cost Function')"
      ]
     },
     "execution_count": 24,
     "metadata": {},
     "output_type": "execute_result"
    },
    {
     "data": {
      "image/png": "[encoded data removed]",
      "text/plain": [
       "<Figure size 432x288 with 1 Axes>"
      ]
     },
     "metadata": {
      "needs_background": "light"
     },
     "output_type": "display_data"
    }
   ],
   "source": [
    "plt.plot(model['costs'])\n",
    "plt.xlabel('Number of interations in multiple of 10')\n",
    "plt.ylabel('Cost Function')"
   ]
  },
  {
   "cell_type": "code",
   "execution_count": 25,
   "metadata": {},
   "outputs": [],
   "source": [
    "def predict(model , X) : #predict the value of output using parameters learnt\n",
    "    params = model['params']\n",
    "    cache = forward_prop(X , params)\n",
    "    A2 = cache['A2']\n",
    "    \n",
    "    pred_y = np.argmax(A2 , axis = 0).reshape(1 , -1)\n",
    "    \n",
    "    return pred_y"
   ]
  },
  {
   "cell_type": "code",
   "execution_count": 26,
   "metadata": {},
   "outputs": [
    {
     "name": "stdout",
     "output_type": "stream",
     "text": [
      "Training Accuracy = 93.69333333333333 %\n",
      "Test Accuracy = 93.78999999999999 %\n"
     ]
    }
   ],
   "source": [
    "train_acc = np.mean((y_train == predict(model , X_train)).astype(np.int)) * 100\n",
    "test_acc = np.mean((y_test == predict(model , X_test)).astype(np.int)) * 100\n",
    "\n",
    "print(f'Training Accuracy = {train_acc} %')\n",
    "print(f'Test Accuracy = {test_acc} %')"
   ]
  },
  {
   "cell_type": "markdown",
   "metadata": {},
   "source": [
    "The above accuracy can be improved by better tuning the hyperparameters such number of hidden units , learning rate etc."
   ]
  },
  {
   "cell_type": "code",
   "execution_count": 35,
   "metadata": {},
   "outputs": [
    {
     "data": {
      "text/plain": [
       "Text(0.5, 1.0, 'Predicted Digit = 4 Actual Digit = 4')"
      ]
     },
     "execution_count": 35,
     "metadata": {},
     "output_type": "execute_result"
    },
    {
     "data": {
      "image/png": "[encoded data removed]",
      "text/plain": [
       "<Figure size 432x288 with 1 Axes>"
      ]
     },
     "metadata": {
      "needs_background": "light"
     },
     "output_type": "display_data"
    }
   ],
   "source": [
    "index = random.randint( 0 , n_x)\n",
    "\n",
    "pred_y_test = predict(model , X_test)\n",
    "\n",
    "plt.imshow(X_test[ : , index].reshape(img_h , -1) , cmap = 'gray' , origin='lower')\n",
    "plt.title(f'Predicted Digit = {pred_y_test[0 , index]} Actual Digit = {y_test[0 , index]}' , fontsize='15')"
   ]
  }
 ],
 "metadata": {
  "kernelspec": {
   "display_name": "Python 3",
   "language": "python",
   "name": "python3"
  },
  "language_info": {
   "codemirror_mode": {
    "name": "ipython",
    "version": 3
   },
   "file_extension": ".py",
   "mimetype": "text/x-python",
   "name": "python",
   "nbconvert_exporter": "python",
   "pygments_lexer": "ipython3",
   "version": "3.6.7"
  }
 },
 "nbformat": 4,
 "nbformat_minor": 2
}
