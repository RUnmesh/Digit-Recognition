{
 "cells": [
  {
   "cell_type": "markdown",
   "metadata": {},
   "source": [
    "# Machine Learning\n",
    "***\n",
    "## Digit Recognition\n",
    "\n",
    "The objective of this project is to design and train a neural network to recognize hand-wriiten digits."
   ]
  },
  {
   "cell_type": "markdown",
   "metadata": {},
   "source": [
    "The MINST database has been used. A 2-layer neural network has been used.\n",
    "\n",
    "### Step 0\n",
    "***\n",
    "Load the data and required modules."
   ]
  },
  {
   "cell_type": "code",
   "execution_count": 4,
   "metadata": {},
   "outputs": [],
   "source": [
    "import os\n",
    "import struct\n",
    "from array import array\n",
    "import math\n",
    "import random\n",
    "import numpy as np\n",
    "import matplotlib.pyplot as plt\n",
    "%matplotlib inline"
   ]
  },
  {
   "cell_type": "code",
   "execution_count": 5,
   "metadata": {},
   "outputs": [],
   "source": [
    "def load(img_path , label_path) :\n",
    "\n",
    "        with open(img_path , 'rb') as image_file:\n",
    "            magic , size , rows , cols = struct.unpack('>IIII' , image_file.read(4*4))\n",
    "            image_data = array('B' , image_file.read())\n",
    "\n",
    "        img_size = rows*cols\n",
    "        images = []\n",
    "\n",
    "        for i in range(size) :\n",
    "            image = image_data[i*img_size : (i+1)*img_size]\n",
    "            images.append(image)\n",
    "\n",
    "        with open(label_path , 'rb') as label_file :\n",
    "            magic , size = struct.unpack('>II' , label_file.read(2*4))\n",
    "            labels = array('B' , label_file.read())\n",
    "\n",
    "        return images , labels"
   ]
  },
  {
   "cell_type": "code",
   "execution_count": 6,
   "metadata": {},
   "outputs": [],
   "source": [
    "train_img_file = 'Loader/data/train-images-idx3-ubyte'\n",
    "train_labels_file = 'Loader/data/train-labels-idx1-ubyte'\n",
    "\n",
    "test_img_file = 'Loader/data/t10k-images-idx3-ubyte'\n",
    "test_labels_file = 'Loader/data/t10k-labels-idx1-ubyte'\n",
    "\n",
    "train_img , train_label = load(os.path.join( os.getcwd() ,train_img_file) , \n",
    "                                                                    os.path.join( os.getcwd() ,train_labels_file))\n",
    "test_img , test_label = load(os.path.join( os.getcwd() ,test_img_file) , \n",
    "                                                                    os.path.join( os.getcwd() , test_labels_file))"
   ]
  },
  {
   "cell_type": "code",
   "execution_count": 7,
   "metadata": {},
   "outputs": [],
   "source": [
    "X_train = np.array(train_img , dtype=np.float) / 255\n",
    "y_train = np.array(train_label , dtype=np.int).reshape(1 , -1)\n",
    "\n",
    "X_test = np.array(test_img , dtype=np.float) / 255\n",
    "y_test = np.array(test_label , dtype=np.int).reshape(1 , -1)\n",
    "\n",
    "X_train , X_test = X_train.T , X_test.T "
   ]
  },
  {
   "cell_type": "markdown",
   "metadata": {},
   "source": [
    "The data has normalized within the range [0 , 1]."
   ]
  },
  {
   "cell_type": "code",
   "execution_count": 8,
   "metadata": {},
   "outputs": [
    {
     "name": "stdout",
     "output_type": "stream",
     "text": [
      "Number of training examples = 60000\n",
      "Number of input units = 784\n",
      "Number of hidden units = 10\n",
      "Number of output units = 60000\n",
      "Image Height = 28\n"
     ]
    }
   ],
   "source": [
    "n_x , m = X_train.shape\n",
    "n_h = 10\n",
    "n_o = y_train.shape[1]\n",
    "img_h = int(math.sqrt(n_x))\n",
    "\n",
    "print(f'Number of training examples = {m}')\n",
    "print(f'Number of input units = {n_x}')\n",
    "print(f'Number of hidden units = {n_h}')\n",
    "print(f'Number of output units = {n_o}')\n",
    "print(f'Image Height = {img_h}')"
   ]
  },
  {
   "cell_type": "markdown",
   "metadata": {},
   "source": [
    "### Step 1\n",
    "***\n",
    "Visualize the data"
   ]
  },
  {
   "cell_type": "code",
   "execution_count": 9,
   "metadata": {},
   "outputs": [
    {
     "data": {
      "text/plain": [
       "Text(0.5, 1.0, 'Digit = 3')"
      ]
     },
     "execution_count": 9,
     "metadata": {},
     "output_type": "execute_result"
    },
    {
     "data": {
      "image/png": "[encoded data removed]",
      "text/plain": [
       "<Figure size 432x288 with 1 Axes>"
      ]
     },
     "metadata": {
      "needs_background": "light"
     },
     "output_type": "display_data"
    }
   ],
   "source": [
    "index = random.randint( 0 , n_x)\n",
    "\n",
    "plt.imshow(X_train[ : , index].reshape(img_h , -1) , cmap = 'gray' , origin='lower')\n",
    "plt.title(f'Digit = {y_train[0 , index]}' , fontsize='18')"
   ]
  },
  {
   "cell_type": "markdown",
   "metadata": {},
   "source": [
    "### Step 2\n",
    "***\n",
    "Design and test the neural network architecture"
   ]
  },
  {
   "cell_type": "code",
   "execution_count": 10,
   "metadata": {},
   "outputs": [],
   "source": [
    "def prep_labels(y , classes = 10) : #create the required dimensional output vector\n",
    "    prep_y = np.zeros((classes , y.shape[1]))\n",
    "    \n",
    "    for i in range(classes) :\n",
    "        prep_y[i , :] = (y==i).astype(np.int)\n",
    "    \n",
    "    return prep_y"
   ]
  },
  {
   "cell_type": "code",
   "execution_count": 11,
   "metadata": {},
   "outputs": [],
   "source": [
    "def sigmoid(z) : #calculate sigmoid of z\n",
    "    return 1 / (1 + np.exp(-z))"
   ]
  },
  {
   "cell_type": "code",
   "execution_count": 12,
   "metadata": {},
   "outputs": [],
   "source": [
    "def initialize(n_x , n_h , n_o) : #randomly initialize the parameters\n",
    "    W1 = np.random.randn(n_h , n_x) * 0.01\n",
    "    b1 = np.zeros((n_h , 1))\n",
    "    \n",
    "    W2 = np.random.randn(n_o , n_h) * 0.01\n",
    "    b2 = np.zeros((n_o , 1))\n",
    "    \n",
    "    params = {\n",
    "        'W1' : W1 ,\n",
    "        'b1' : b1 , \n",
    "        'W2' : W2 , \n",
    "        'b2' : b2 \n",
    "    }\n",
    "    \n",
    "    return params"
   ]
  },
  {
   "cell_type": "code",
   "execution_count": 13,
   "metadata": {},
   "outputs": [],
   "source": [
    "def forward_prop (X , params) : #forward propogation algorithm\n",
    "    W1 = params['W1']\n",
    "    b1 = params['b1']\n",
    "    W2 = params['W2']\n",
    "    b2 = params['b2']\n",
    "    \n",
    "    Z1 = np.dot(W1 , X) + b1\n",
    "    A1 = np.tanh(Z1)\n",
    "    \n",
    "    Z2 = np.dot(W2 , A1) + b2\n",
    "    A2 = sigmoid(Z2)\n",
    "    \n",
    "    cache = {\n",
    "        'Z1' : Z1 ,\n",
    "        'A1' : A1 ,\n",
    "        'Z2' : Z2 ,\n",
    "        'A2' : A2 \n",
    "    }\n",
    "    \n",
    "    return cache"
   ]
  },
  {
   "cell_type": "code",
   "execution_count": 14,
   "metadata": {},
   "outputs": [],
   "source": [
    "def compute_cost(X , y , cache) : #Compute the cost function\n",
    "    Z1 = cache['Z1']\n",
    "    A1 = cache['A1']\n",
    "    Z2 = cache['Z2']\n",
    "    A2 = cache['A2']\n",
    "    \n",
    "    loss = y * np.log(A2) + (1 - y) * np.log(1 - A2)\n",
    "    cost = - np.sum(loss) / X.shape[1]\n",
    "    \n",
    "    return cost"
   ]
  },
  {
   "cell_type": "code",
   "execution_count": 15,
   "metadata": {},
   "outputs": [],
   "source": [
    "def back_prop(X , y , cache , params) : #Backward propogation algorithm\n",
    "    W1 = params['W1']\n",
    "    b1 = params['b1']\n",
    "    W2 = params['W2']\n",
    "    b2 = params['b2']\n",
    "    \n",
    "    Z1 = cache['Z1']\n",
    "    A1 = cache['A1']\n",
    "    Z2 = cache['Z2']\n",
    "    A2 = cache['A2']\n",
    "    \n",
    "    dZ2 = A2 - y\n",
    "    dW2 = np.dot(dZ2 , A1.T) / X.shape[1]\n",
    "    db2 = np.mean(dZ2 , axis = 1 , keepdims = True)\n",
    "    dZ1 = np.dot(W2.T , dZ2) * (1 - A1 ** 2)\n",
    "    dW1 = np.dot(dZ1 , X.T) / X.shape[1]\n",
    "    db1 = np.mean(dZ1 , axis = 1 , keepdims = True)\n",
    "    \n",
    "    grads = {\n",
    "        'dW1' : dW1 ,\n",
    "        'db1' : db1 ,\n",
    "        'dW2' : dW2 ,\n",
    "        'db2' : db2\n",
    "    }\n",
    "    \n",
    "    return grads"
   ]
  },
  {
   "cell_type": "code",
   "execution_count": 29,
   "metadata": {},
   "outputs": [],
   "source": [
    "def optimize(X , y , params , cache , iterations = 100 , learning_rate = 0.01) : # Batch Gradient Descent\n",
    "    W1 = params['W1']\n",
    "    b1 = params['b1']\n",
    "    W2 = params['W2']\n",
    "    b2 = params['b2']\n",
    "    \n",
    "    costs = []\n",
    "    \n",
    "    for i in range(iterations) :\n",
    "            \n",
    "        grads = back_prop(X , y , cache , params)\n",
    "\n",
    "        dW2 = grads['dW2']\n",
    "        db2 = grads['db2']\n",
    "        dW1 = grads['dW1']\n",
    "        db1 = grads['db1']\n",
    "\n",
    "        W1 = W1 - learning_rate * dW1\n",
    "        b1 = b1 - learning_rate * db1\n",
    "        W2 = W2 - learning_rate * dW2\n",
    "        b2 = b2 - learning_rate * db2\n",
    "\n",
    "        params = {\n",
    "            'W1' : W1 ,\n",
    "            'b1' : b1 , \n",
    "            'W2' : W2 , \n",
    "            'b2' : b2 \n",
    "        }\n",
    "\n",
    "        cache = forward_prop(X , params)\n",
    "\n",
    "        if i % 10 == 0 :\n",
    "            cost = compute_cost(X , y , cache)\n",
    "            print(f'Cost at {i} iteration: {cost}')\n",
    "            costs.append(cost)\n",
    "                \n",
    "    return params , costs\n",
    "    "
   ]
  },
  {
   "cell_type": "code",
   "execution_count": 30,
   "metadata": {},
   "outputs": [],
   "source": [
    "def nn_model(X , y , n_h , iterations = 1000 , classes = 10 , learning_rate = 0.1):\n",
    "    y = prep_labels(y , classes)\n",
    "    \n",
    "    params = initialize(X.shape[0] , n_h , classes)\n",
    "    \n",
    "    cache = forward_prop(X , params)\n",
    "    \n",
    "    params , costs = optimize(X , y , params , cache , iterations , learning_rate)\n",
    "    \n",
    "    cache = forward_prop(X , params)\n",
    "    \n",
    "    model = {\n",
    "        'params' : params , \n",
    "        'costs' : costs\n",
    "    }\n",
    "    \n",
    "    return model"
   ]
  },
  {
   "cell_type": "code",
   "execution_count": 31,
   "metadata": {},
   "outputs": [
    {
     "name": "stdout",
     "output_type": "stream",
     "text": [
      "Cost at 0 iteration: 6.470718094443915\n",
      "Cost at 10 iteration: 3.2746146299414547\n",
      "Cost at 20 iteration: 3.175625076701283\n",
      "Cost at 30 iteration: 3.000699911832051\n",
      "Cost at 40 iteration: 2.7299331066566683\n",
      "Cost at 50 iteration: 2.424955494198554\n",
      "Cost at 60 iteration: 2.162021917750379\n",
      "Cost at 70 iteration: 1.9566957636235267\n",
      "Cost at 80 iteration: 1.7949125761388367\n",
      "Cost at 90 iteration: 1.6626892104103104\n",
      "Cost at 100 iteration: 1.5519493193213452\n",
      "Cost at 110 iteration: 1.4584088066889356\n",
      "Cost at 120 iteration: 1.3792413982945442\n",
      "Cost at 130 iteration: 1.3120207474788723\n",
      "Cost at 140 iteration: 1.2545193725526473\n",
      "Cost at 150 iteration: 1.2047972355625731\n",
      "Cost at 160 iteration: 1.1612784748692955\n",
      "Cost at 170 iteration: 1.122747912930576\n",
      "Cost at 180 iteration: 1.0882960717739198\n",
      "Cost at 190 iteration: 1.057249648670801\n",
      "Cost at 200 iteration: 1.0291077393398227\n",
      "Cost at 210 iteration: 1.0034906394584624\n",
      "Cost at 220 iteration: 0.9801016218478995\n",
      "Cost at 230 iteration: 0.9586998581142501\n",
      "Cost at 240 iteration: 0.9390821649876324\n",
      "Cost at 250 iteration: 0.9210713482214467\n",
      "Cost at 260 iteration: 0.9045091962981904\n",
      "Cost at 270 iteration: 0.8892525294067442\n",
      "Cost at 280 iteration: 0.8751710872535299\n",
      "Cost at 290 iteration: 0.8621463998559957\n",
      "Cost at 300 iteration: 0.8500710935483629\n",
      "Cost at 310 iteration: 0.8388483209465065\n",
      "Cost at 320 iteration: 0.8283911667837467\n",
      "Cost at 330 iteration: 0.818621981830796\n",
      "Cost at 340 iteration: 0.8094716504949047\n",
      "Cost at 350 iteration: 0.8008788201157421\n",
      "Cost at 360 iteration: 0.792789124426213\n",
      "Cost at 370 iteration: 0.7851544292547445\n",
      "Cost at 380 iteration: 0.7779321209636715\n",
      "Cost at 390 iteration: 0.7710844504031406\n",
      "Cost at 400 iteration: 0.7645779386796943\n",
      "Cost at 410 iteration: 0.7583828461903664\n",
      "Cost at 420 iteration: 0.7524727030688405\n",
      "Cost at 430 iteration: 0.7468238971491096\n",
      "Cost at 440 iteration: 0.741415314455911\n",
      "Cost at 450 iteration: 0.7362280267951278\n",
      "Cost at 460 iteration: 0.7312450210142799\n",
      "Cost at 470 iteration: 0.726450964764498\n",
      "Cost at 480 iteration: 0.7218320040023335\n",
      "Cost at 490 iteration: 0.7173755879427584\n",
      "Cost at 500 iteration: 0.7130703176625695\n",
      "Cost at 510 iteration: 0.7089058150252355\n",
      "Cost at 520 iteration: 0.7048726090367174\n",
      "Cost at 530 iteration: 0.7009620371385952\n",
      "Cost at 540 iteration: 0.697166159297398\n",
      "Cost at 550 iteration: 0.6934776830581002\n",
      "Cost at 560 iteration: 0.6898898979980547\n",
      "Cost at 570 iteration: 0.6863966182489315\n",
      "Cost at 580 iteration: 0.6829921319524822\n",
      "Cost at 590 iteration: 0.6796711566852666\n",
      "Cost at 600 iteration: 0.6764288000316021\n",
      "Cost at 610 iteration: 0.6732605246064599\n",
      "Cost at 620 iteration: 0.6701621169338863\n",
      "Cost at 630 iteration: 0.6671296596745457\n",
      "Cost at 640 iteration: 0.6641595067704952\n",
      "Cost at 650 iteration: 0.6612482611383793\n",
      "Cost at 660 iteration: 0.6583927545956064\n",
      "Cost at 670 iteration: 0.6555900297492343\n",
      "Cost at 680 iteration: 0.6528373236155199\n",
      "Cost at 690 iteration: 0.6501320527704412\n",
      "Cost at 700 iteration: 0.6474717998589146\n",
      "Cost at 710 iteration: 0.6448543013136487\n",
      "Cost at 720 iteration: 0.6422774361542636\n",
      "Cost at 730 iteration: 0.6397392157540407\n",
      "Cost at 740 iteration: 0.6372377744758638\n",
      "Cost at 750 iteration: 0.6347713610910269\n",
      "Cost at 760 iteration: 0.6323383309049113\n",
      "Cost at 770 iteration: 0.6299371385223769\n",
      "Cost at 780 iteration: 0.6275663311932956\n",
      "Cost at 790 iteration: 0.6252245426852036\n",
      "Cost at 800 iteration: 0.6229104876357011\n",
      "Cost at 810 iteration: 0.6206229563421555\n",
      "Cost at 820 iteration: 0.6183608099505504\n",
      "Cost at 830 iteration: 0.6161229760091077\n",
      "Cost at 840 iteration: 0.613908444355626\n",
      "Cost at 850 iteration: 0.6117162633104279\n",
      "Cost at 860 iteration: 0.609545536149435\n",
      "Cost at 870 iteration: 0.6073954178342075\n",
      "Cost at 880 iteration: 0.6052651119779012\n",
      "Cost at 890 iteration: 0.6031538680279388\n",
      "Cost at 900 iteration: 0.6010609786478879\n",
      "Cost at 910 iteration: 0.5989857772825258\n",
      "Cost at 920 iteration: 0.596927635891433\n",
      "Cost at 930 iteration: 0.5948859628376441\n",
      "Cost at 940 iteration: 0.5928602009189712\n",
      "Cost at 950 iteration: 0.5908498255305759\n",
      "Cost at 960 iteration: 0.588854342948216\n",
      "Cost at 970 iteration: 0.5868732887223673\n",
      "Cost at 980 iteration: 0.5849062261740969\n",
      "Cost at 990 iteration: 0.5829527449841915\n"
     ]
    }
   ],
   "source": [
    " model = nn_model(X_train , y_train , 300)"
   ]
  },
  {
   "cell_type": "code",
   "execution_count": 58,
   "metadata": {
    "scrolled": true
   },
   "outputs": [
    {
     "data": {
      "text/plain": [
       "Text(0, 0.5, 'Cost Function')"
      ]
     },
     "execution_count": 58,
     "metadata": {},
     "output_type": "execute_result"
    },
    {
     "data": {
      "image/png": "[encoded data removed]",
      "text/plain": [
       "<Figure size 432x288 with 1 Axes>"
      ]
     },
     "metadata": {
      "needs_background": "light"
     },
     "output_type": "display_data"
    }
   ],
   "source": [
    "plt.plot(model['costs'])\n",
    "plt.xlabel('Number of interations in multiple of 10')\n",
    "plt.ylabel('Cost Function')"
   ]
  },
  {
   "cell_type": "code",
   "execution_count": 40,
   "metadata": {},
   "outputs": [],
   "source": [
    "def predict(model , X) : #predict the value of output using parameters learnt\n",
    "    params = model['params']\n",
    "    cache = forward_prop(X , params)\n",
    "    A2 = cache['A2']\n",
    "    \n",
    "    pred_y = np.argmax(A2 , axis = 0).reshape(1 , -1)\n",
    "    \n",
    "    return pred_y"
   ]
  },
  {
   "cell_type": "code",
   "execution_count": 41,
   "metadata": {},
   "outputs": [
    {
     "name": "stdout",
     "output_type": "stream",
     "text": [
      "Training Accuracy = 91.80833333333334 %\n",
      "Test Accuracy = 92.24 %\n"
     ]
    }
   ],
   "source": [
    "train_acc = np.mean((y_train == predict(model , X_train)).astype(np.int)) * 100\n",
    "test_acc = np.mean((y_test == predict(model , X_test)).astype(np.int)) * 100\n",
    "\n",
    "print(f'Training Accuracy = {train_acc} %')\n",
    "print(f'Test Accuracy = {test_acc} %')"
   ]
  },
  {
   "cell_type": "markdown",
   "metadata": {},
   "source": [
    "The above accuracy can be improved by better tuning the hyperparameters such number of hidden units , learning rate etc."
   ]
  },
  {
   "cell_type": "code",
   "execution_count": 56,
   "metadata": {},
   "outputs": [
    {
     "data": {
      "text/plain": [
       "Text(0.5, 1.0, 'Predicted Digit = 9 Actual Digit = 9')"
      ]
     },
     "execution_count": 56,
     "metadata": {},
     "output_type": "execute_result"
    },
    {
     "data": {
      "image/png": "[encoded data removed]",
      "text/plain": [
       "<Figure size 432x288 with 1 Axes>"
      ]
     },
     "metadata": {
      "needs_background": "light"
     },
     "output_type": "display_data"
    }
   ],
   "source": [
    "index = random.randint( 0 , n_x)\n",
    "\n",
    "pred_y_test = predict(model , X_test)\n",
    "\n",
    "plt.imshow(X_test[ : , index].reshape(img_h , -1) , cmap = 'gray' , origin='lower')\n",
    "plt.title(f'Predicted Digit = {pred_y_test[0 , index]} Actual Digit = {y_test[0 , index]}' , fontsize='15')"
   ]
  }
 ],
 "metadata": {
  "kernelspec": {
   "display_name": "Python 3",
   "language": "python",
   "name": "python3"
  },
  "language_info": {
   "codemirror_mode": {
    "name": "ipython",
    "version": 3
   },
   "file_extension": ".py",
   "mimetype": "text/x-python",
   "name": "python",
   "nbconvert_exporter": "python",
   "pygments_lexer": "ipython3",
   "version": "3.6.7"
  }
 },
 "nbformat": 4,
 "nbformat_minor": 2
}
