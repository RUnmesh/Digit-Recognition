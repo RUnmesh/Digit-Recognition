{
 "cells": [
  {
   "cell_type": "code",
   "execution_count": 15,
   "metadata": {},
   "outputs": [],
   "source": [
    "import os\n",
    "import struct\n",
    "from array import array\n",
    "import math\n",
    "import random\n",
    "import numpy as np\n",
    "import matplotlib.pyplot as plt\n",
    "%matplotlib inline"
   ]
  },
  {
   "cell_type": "code",
   "execution_count": 4,
   "metadata": {},
   "outputs": [],
   "source": [
    "def load(img_path , label_path) :\n",
    "\n",
    "        with open(img_path , 'rb') as image_file:\n",
    "            magic , size , rows , cols = struct.unpack('>IIII' , image_file.read(4*4))\n",
    "            image_data = array('B' , image_file.read())\n",
    "\n",
    "        img_size = rows*cols\n",
    "        images = []\n",
    "\n",
    "        for i in range(size) :\n",
    "            image = image_data[i*img_size : (i+1)*img_size]\n",
    "            images.append(image)\n",
    "\n",
    "        with open(label_path , 'rb') as label_file :\n",
    "            magic , size = struct.unpack('>II' , label_file.read(2*4))\n",
    "            labels = array('B' , label_file.read())\n",
    "\n",
    "        return images , labels"
   ]
  },
  {
   "cell_type": "code",
   "execution_count": 5,
   "metadata": {},
   "outputs": [],
   "source": [
    "train_img_file = 'Loader/data/train-images-idx3-ubyte'\n",
    "train_labels_file = 'Loader/data/train-labels-idx1-ubyte'\n",
    "\n",
    "test_img_file = 'Loader/data/t10k-images-idx3-ubyte'\n",
    "test_labels_file = 'Loader/data/t10k-labels-idx1-ubyte'\n",
    "\n",
    "train_img , train_label = load(os.path.join( os.getcwd() ,train_img_file) , \n",
    "                                                                    os.path.join( os.getcwd() ,train_labels_file))\n",
    "test_img , test_label = load(os.path.join( os.getcwd() ,test_img_file) , \n",
    "                                                                    os.path.join( os.getcwd() , test_labels_file))"
   ]
  },
  {
   "cell_type": "code",
   "execution_count": 10,
   "metadata": {},
   "outputs": [],
   "source": [
    "X_train = np.array(train_img , dtype=np.float) / 255\n",
    "y_train = np.array(train_label , dtype=np.int).reshape(1 , -1)\n",
    "\n",
    "X_test = np.array(test_img , dtype=np.float) / 255\n",
    "y_test = np.array(test_label , dtype=np.int).reshape(1 , -1)\n",
    "\n",
    "X_train , X_test = X_train.T , X_test.T "
   ]
  },
  {
   "cell_type": "code",
   "execution_count": 20,
   "metadata": {},
   "outputs": [
    {
     "name": "stdout",
     "output_type": "stream",
     "text": [
      "Number of training examples = 60000\n",
      "Number of input units = 784\n",
      "Number of hidden units = 10\n",
      "Number of output units = 60000\n",
      "Image Height = 28\n"
     ]
    }
   ],
   "source": [
    "n_x , m = X_train.shape\n",
    "n_h = 10\n",
    "n_o = y_train.shape[1]\n",
    "img_h = int(math.sqrt(n_x))\n",
    "\n",
    "print(f'Number of training examples = {m}')\n",
    "print(f'Number of input units = {n_x}')\n",
    "print(f'Number of hidden units = {n_h}')\n",
    "print(f'Number of output units = {n_o}')\n",
    "print(f'Image Height = {img_h}')"
   ]
  },
  {
   "cell_type": "code",
   "execution_count": 40,
   "metadata": {},
   "outputs": [
    {
     "data": {
      "text/plain": [
       "Text(0.5, 1.0, 'Digit = 8')"
      ]
     },
     "execution_count": 40,
     "metadata": {},
     "output_type": "execute_result"
    },
    {
     "data": {
      "image/png": "[encoded data removed]",
      "text/plain": [
       "<Figure size 432x288 with 1 Axes>"
      ]
     },
     "metadata": {
      "needs_background": "light"
     },
     "output_type": "display_data"
    }
   ],
   "source": [
    "index = random.randint( 0 , n_x)\n",
    "\n",
    "plt.imshow(X_train[ : , index].reshape(img_h , -1) , cmap = 'gray' , origin='lower')\n",
    "plt.title(f'Digit = {y_train[0 , index]}' , fontsize='18')"
   ]
  },
  {
   "cell_type": "code",
   "execution_count": 37,
   "metadata": {},
   "outputs": [],
   "source": [
    "def prep_labels(y , classes = 10) :\n",
    "    prep_y = np.zeros((classes , y.shape[1]))\n",
    "    \n",
    "    for i in range(classes) :\n",
    "        prep_y[i , :] = (y==i).astype(np.int)\n",
    "    \n",
    "    return prep_y"
   ]
  },
  {
   "cell_type": "code",
   "execution_count": 29,
   "metadata": {},
   "outputs": [],
   "source": [
    "def sigmoid(z) :\n",
    "    return 1 / (1 + np.exp(-z))"
   ]
  },
  {
   "cell_type": "code",
   "execution_count": 49,
   "metadata": {},
   "outputs": [],
   "source": [
    "def initialize(n_x , n_h , n_o) :\n",
    "    W1 = np.random.randn(n_h , n_x) * 0.001\n",
    "    b1 = np.zeros((n_h , 1))\n",
    "    \n",
    "    W2 = np.random.randn(n_o , n_h) * 0.001\n",
    "    b2 = np.zeros((n_o , 1))\n",
    "    \n",
    "    params = {\n",
    "        'W1' : W1 ,\n",
    "        'b1' : b1 , \n",
    "        'W2' : W2 , \n",
    "        'b2' : b2 \n",
    "    }\n",
    "    \n",
    "    return params"
   ]
  },
  {
   "cell_type": "code",
   "execution_count": 30,
   "metadata": {},
   "outputs": [],
   "source": [
    "def forward_prop (X , params) :\n",
    "    W1 = params['W1']\n",
    "    b1 = params['b1']\n",
    "    W2 = params['W2']\n",
    "    b2 = params['b2']\n",
    "    \n",
    "    Z1 = np.dot(W1 , X) + b1\n",
    "    A1 = np.tanh(Z1)\n",
    "    \n",
    "    Z2 = np.dot(W2 , A1) + b2\n",
    "    A2 = sigmoid(Z2)\n",
    "    \n",
    "    cache = {\n",
    "        'Z1' : Z1 ,\n",
    "        'A1' : A1 ,\n",
    "        'Z2' : Z2 ,\n",
    "        'A2' : A2 \n",
    "    }\n",
    "    \n",
    "    return cache"
   ]
  },
  {
   "cell_type": "code",
   "execution_count": 65,
   "metadata": {},
   "outputs": [],
   "source": [
    "def compute_cost(X , y , cache) :\n",
    "    Z1 = cache['Z1']\n",
    "    A1 = cache['A1']\n",
    "    Z2 = cache['Z2']\n",
    "    A2 = cache['A2']\n",
    "    \n",
    "    loss = y * np.log(A2) + (1 - y) * np.log(1 - A2)\n",
    "    cost = - np.sum(loss) / X.shape[1]\n",
    "    \n",
    "    return cost"
   ]
  },
  {
   "cell_type": "code",
   "execution_count": 54,
   "metadata": {},
   "outputs": [],
   "source": [
    "def back_prop(X , y , cache , params) :\n",
    "    W1 = params['W1']\n",
    "    b1 = params['b1']\n",
    "    W2 = params['W2']\n",
    "    b2 = params['b2']\n",
    "    \n",
    "    Z1 = cache['Z1']\n",
    "    A1 = cache['A1']\n",
    "    Z2 = cache['Z2']\n",
    "    A2 = cache['A2']\n",
    "    \n",
    "    dZ2 = A2 - y\n",
    "    dW2 = np.dot(dZ2 , A1.T) / X.shape[1]\n",
    "    db2 = np.mean(dZ2 , axis = 1 , keepdims = True)\n",
    "    dZ1 = np.dot(W2.T , dZ2) * (1 - A1 ** 2)\n",
    "    dW1 = np.dot(dZ1 , X.T) / X.shape[1]\n",
    "    db1 = np.mean(dZ1 , axis = 1 , keepdims = True)\n",
    "    \n",
    "    grads = {\n",
    "        'dW1' : dW1 ,\n",
    "        'db1' : db1 ,\n",
    "        'dW2' : dW2 ,\n",
    "        'db2' : db2\n",
    "    }\n",
    "    \n",
    "    return grads"
   ]
  },
  {
   "cell_type": "code",
   "execution_count": 97,
   "metadata": {},
   "outputs": [],
   "source": [
    "def optimize(X , y , params , cache , iterations = 100 , learning_rate = 0.01) :\n",
    "    W1 = params['W1']\n",
    "    b1 = params['b1']\n",
    "    W2 = params['W2']\n",
    "    b2 = params['b2']\n",
    "    \n",
    "    costs = []\n",
    "    \n",
    "    for i in range(iterations) :\n",
    "            \n",
    "        grads = back_prop(X , y , cache , params)\n",
    "\n",
    "        dW2 = grads['dW2']\n",
    "        db2 = grads['db2']\n",
    "        dW1 = grads['dW1']\n",
    "        db1 = grads['db1']\n",
    "\n",
    "        W1 = W1 - learning_rate * dW1\n",
    "        b1 = b1 - learning_rate * db1\n",
    "        W2 = W2 - learning_rate * dW2\n",
    "        b2 = b2 - learning_rate * db2\n",
    "\n",
    "        params = {\n",
    "            'W1' : W1 ,\n",
    "            'b1' : b1 , \n",
    "            'W2' : W2 , \n",
    "            'b2' : b2 \n",
    "        }\n",
    "\n",
    "        cache = forward_prop(X , params)\n",
    "\n",
    "        if i % 10 == 0 :\n",
    "            cost = compute_cost(X , y , cache)\n",
    "            print(f'Cost at {i} iteration: {cost}')\n",
    "            costs.append(cost)\n",
    "                \n",
    "    return params , costs\n",
    "    "
   ]
  },
  {
   "cell_type": "code",
   "execution_count": 116,
   "metadata": {},
   "outputs": [],
   "source": [
    "def nn_model(X , y , n_h , iterations = 500 , classes = 10 , learning_rate = ):\n",
    "    y = prep_labels(y , classes)\n",
    "    \n",
    "    params = initialize(X.shape[0] , n_h , classes)\n",
    "    \n",
    "    cache = forward_prop(X , params)\n",
    "    \n",
    "    params , costs = optimize(X , y , params , cache , iterations , learning_rate)\n",
    "    \n",
    "    cache = forward_prop(X , params)\n",
    "    A2 = cache['A2']\n",
    "    \n",
    "    model = {\n",
    "        'params' : params , \n",
    "        'costs' : costs\n",
    "    }\n",
    "    \n",
    "    return model"
   ]
  },
  {
   "cell_type": "code",
   "execution_count": 117,
   "metadata": {},
   "outputs": [
    {
     "name": "stdout",
     "output_type": "stream",
     "text": [
      "Cost at 0 iteration: 6.1803515239177305\n",
      "Cost at 10 iteration: 3.2512054760598654\n",
      "Cost at 20 iteration: 3.2324664548098934\n",
      "Cost at 30 iteration: 3.081693352729555\n",
      "Cost at 40 iteration: 2.8571871140077385\n",
      "Cost at 50 iteration: 2.682105632199997\n",
      "Cost at 60 iteration: 2.5669235731435043\n",
      "Cost at 70 iteration: 2.4581310745735685\n",
      "Cost at 80 iteration: 2.3469829882160185\n",
      "Cost at 90 iteration: 2.248302562640064\n",
      "Cost at 100 iteration: 2.118574720537815\n",
      "Cost at 110 iteration: 2.015229595236079\n",
      "Cost at 120 iteration: 1.931396211884148\n",
      "Cost at 130 iteration: 1.9555167379237401\n",
      "Cost at 140 iteration: 1.8148741738855094\n",
      "Cost at 150 iteration: 1.8051583537562599\n",
      "Cost at 160 iteration: 1.7410682282556855\n",
      "Cost at 170 iteration: 1.6899073482045832\n",
      "Cost at 180 iteration: 1.73640446471666\n",
      "Cost at 190 iteration: 1.6590824139851377\n",
      "Cost at 200 iteration: 1.6365759127920405\n",
      "Cost at 210 iteration: 1.6259365272312403\n",
      "Cost at 220 iteration: 1.6017199532235342\n",
      "Cost at 230 iteration: 1.6172307652100566\n",
      "Cost at 240 iteration: 1.5959342221242534\n",
      "Cost at 250 iteration: 1.6447290337211156\n",
      "Cost at 260 iteration: 1.5388241530693327\n",
      "Cost at 270 iteration: 1.5346601527235808\n",
      "Cost at 280 iteration: 1.5568718305024896\n",
      "Cost at 290 iteration: 1.5544845617552119\n",
      "Cost at 300 iteration: 1.5192810138639543\n",
      "Cost at 310 iteration: 1.5110031172149085\n",
      "Cost at 320 iteration: 1.5117621082055193\n",
      "Cost at 330 iteration: 1.5219022536103342\n",
      "Cost at 340 iteration: 1.4952808481792457\n",
      "Cost at 350 iteration: 1.469013863849852\n",
      "Cost at 360 iteration: 1.4367425981646875\n",
      "Cost at 370 iteration: 1.4225815480368342\n",
      "Cost at 380 iteration: 1.361836209386712\n",
      "Cost at 390 iteration: 1.3167141330724466\n",
      "Cost at 400 iteration: 1.2893330245009944\n",
      "Cost at 410 iteration: 1.2595887594097914\n",
      "Cost at 420 iteration: 1.229898259042244\n",
      "Cost at 430 iteration: 1.2096000353793355\n",
      "Cost at 440 iteration: 1.194344473033716\n",
      "Cost at 450 iteration: 1.1795222990321905\n",
      "Cost at 460 iteration: 1.1666684725818794\n",
      "Cost at 470 iteration: 1.156830925764499\n",
      "Cost at 480 iteration: 1.1476489546646487\n",
      "Cost at 490 iteration: 1.138467697380311\n"
     ]
    }
   ],
   "source": [
    " model = nn_model(X_train , y_train , 10)"
   ]
  },
  {
   "cell_type": "code",
   "execution_count": 118,
   "metadata": {},
   "outputs": [
    {
     "data": {
      "image/png": "[encoded data removed]",
      "text/plain": [
       "<Figure size 432x288 with 1 Axes>"
      ]
     },
     "metadata": {
      "needs_background": "light"
     },
     "output_type": "display_data"
    },
    {
     "name": "stdout",
     "output_type": "stream",
     "text": [
      "81.30333333333334\n"
     ]
    }
   ],
   "source": [
    "plt.plot(model['costs'])\n",
    "plt.show()\n",
    "\n",
    "params = model['params']\n",
    "cache = forward_prop(X_train , params)\n",
    "A2 = cache['A2']\n",
    "\n",
    "pred_y = np.argmax(A2 , axis = 0)\n",
    "\n",
    "training = np.mean((y_train == pred_y).astype(np.int)) * 100\n",
    "\n",
    "print(training)"
   ]
  },
  {
   "cell_type": "code",
   "execution_count": null,
   "metadata": {},
   "outputs": [],
   "source": []
  }
 ],
 "metadata": {
  "kernelspec": {
   "display_name": "Python 3",
   "language": "python",
   "name": "python3"
  },
  "language_info": {
   "codemirror_mode": {
    "name": "ipython",
    "version": 3
   },
   "file_extension": ".py",
   "mimetype": "text/x-python",
   "name": "python",
   "nbconvert_exporter": "python",
   "pygments_lexer": "ipython3",
   "version": "3.6.7"
  }
 },
 "nbformat": 4,
 "nbformat_minor": 2
}
